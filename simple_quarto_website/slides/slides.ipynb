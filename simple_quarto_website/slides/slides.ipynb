{
 "cells": [
  {
   "cell_type": "markdown",
   "id": "a89f3265",
   "metadata": {},
   "source": [
    "---\n",
    "title: \"DSAN 5000 — Mini Deck\"\n",
    "format:\n",
    "  revealjs:\n",
    "    theme: simple\n",
    "    slide-number: true\n",
    "    transition: fade\n",
    "bibliography: ../reference.bib\n",
    "---\n"
   ]
  },
  {
   "cell_type": "markdown",
   "id": "d3a2a1e1",
   "metadata": {},
   "source": [
    "## Welcome\n",
    "\n",
    "This is a short reveal.js deck made with Quarto + Jupyter Notebook.\n",
    "\n",
    "I will cite one of our references here: see @Anscombe_2006 for background, and a more modern take in @Wood_2020.\n"
   ]
  },
  {
   "cell_type": "code",
   "execution_count": null,
   "id": "dadcf8f6",
   "metadata": {},
   "outputs": [],
   "source": [
    "#| code-fold: true\n",
    "import numpy as np\n",
    "import matplotlib.pyplot as plt\n",
    "\n",
    "x = np.linspace(0, 10, 300)\n",
    "y = np.sin(x) * np.exp(-0.1*x)\n",
    "\n",
    "plt.figure()\n",
    "plt.plot(x, y)\n",
    "plt.title(\"Damped Sine Example\")\n",
    "plt.xlabel(\"x\"); plt.ylabel(\"f(x)\")\n",
    "plt.grid(True)\n",
    "plt.show()"
   ]
  },
  {
   "cell_type": "markdown",
   "id": "b23fd778",
   "metadata": {},
   "source": [
    "## Key Points\n",
    "\n",
    "- Built with Quarto + reveal.js\n",
    "- Authored as a Jupyter Notebook (`.ipynb`)\n",
    "- Images, citations, and code supported\n"
   ]
  }
 ],
 "metadata": {
  "language_info": {
   "name": "python"
  }
 },
 "nbformat": 4,
 "nbformat_minor": 5
}
