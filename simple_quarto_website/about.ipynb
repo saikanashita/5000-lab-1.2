{
  "cells": [
    {
      "cell_type": "markdown",
      "metadata": {},
      "source": [
        "# About Me\n",
        "## Background\n",
        "### Interests\n",
        "\n",
        "Lorem ipsum dolor sit amet, consectetur adipiscing elit. Integer vitae neque nec augue posuere elementum.\n"
      ]
    },
    {
      "cell_type": "code",
      "execution_count": null,
      "metadata": {},
      "outputs": [],
      "source": [
        "import matplotlib.pyplot as plt\n",
        "import numpy as np\n",
        "\n",
        "x = np.linspace(0, 2*np.pi, 200)\n",
        "y = np.sin(x)\n",
        "\n",
        "plt.figure()\n",
        "plt.plot(x, y)\n",
        "plt.title(\"Example Plot\")\n",
        "plt.xlabel(\"x\")\n",
        "plt.ylabel(\"sin(x)\")\n",
        "plt.grid(True)\n",
        "plt.show()\n"
      ]
    }
  ],
  "metadata": {
    "kernelspec": {
      "display_name": "dsan5000",
      "language": "python",
      "name": "python3"
    },
    "language_info": {
      "name": "python",
      "version": "3.11.11"
    }
  },
  "nbformat": 4,
  "nbformat_minor": 4
}
